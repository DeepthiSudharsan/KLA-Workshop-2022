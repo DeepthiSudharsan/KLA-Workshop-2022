{
 "cells": [
  {
   "cell_type": "markdown",
   "metadata": {},
   "source": [
    "## MILESTONE 1"
   ]
  },
  {
   "cell_type": "markdown",
   "metadata": {},
   "source": [
    "### MILESTONE 1A"
   ]
  },
  {
   "cell_type": "code",
   "execution_count": 9,
   "metadata": {},
   "outputs": [],
   "source": [
    "# import functions\n",
    "import yaml\n",
    "import io\n",
    "import pprint\n",
    "import operator\n",
    "from datetime import datetime\n",
    "import time\n",
    "import threading"
   ]
  },
  {
   "cell_type": "code",
   "execution_count": 22,
   "metadata": {},
   "outputs": [],
   "source": [
    "def TimeFunction(t):\n",
    "    time.sleep(int(t))"
   ]
  },
  {
   "cell_type": "code",
   "execution_count": 23,
   "metadata": {},
   "outputs": [],
   "source": [
    "#open yaml file\n",
    "def load_task(file):\n",
    "    with open(file, 'r') as stream:\n",
    "        try:\n",
    "            tasks = yaml.safe_load(stream)\n",
    "        except yaml.YAMLError as exc:\n",
    "            print(exc)\n",
    "    return tasks"
   ]
  },
  {
   "cell_type": "code",
   "execution_count": 37,
   "metadata": {},
   "outputs": [],
   "source": [
    "def run_task(activity, s):\n",
    "    logslist.append(str(datetime.now()) + \";\" + s[:-1]+' Entry\\n')\n",
    "    act_input = activity.get('FunctionInput')\n",
    "    act_time = activity.get('ExecutionTime')\n",
    "    logslist.append(str(datetime.now()) + \";\" + s[:-1]+ ' Executing TimeFunction(' + act_input + ', ' + act_time + ')\\n')\n",
    "    TimeFunction(act_time)\n",
    "    logslist.append(str(datetime.now()) + \";\" + s[:-1]+' Exit\\n')"
   ]
  },
  {
   "cell_type": "code",
   "execution_count": 41,
   "metadata": {},
   "outputs": [],
   "source": [
    "def run(log_file1A,config, s):\n",
    "        log_file1A.write(str(datetime.now()) + \";\" + s[:-1]+' Entry\\n')\n",
    "        type = config['Type']\n",
    "        execution = config['Execution']\n",
    "        activities = config.get('Activities')\n",
    "        activities_key = list(activities.keys())\n",
    "        activities_value = list(activities.values())\n",
    "        for i in activities_value:\n",
    "            type = i.get('Type')\n",
    "            if type == 'Task':\n",
    "                run_task(log_file1A,i.get('Inputs'), s+activities_key[activities_value.index(i)]+'.')\n",
    "            elif type == 'Flow':\n",
    "                run(log_file1A,i, s+activities_key[activities_value.index(i)]+'.')\n",
    "        log_file1A.write(str(datetime.now()) + \";\" + s[:-1]+' Exit\\n')"
   ]
  },
  {
   "cell_type": "code",
   "execution_count": 16,
   "metadata": {},
   "outputs": [],
   "source": [
    "t1 = load_task('DataSet\\Milestone1\\Milestone1A.yaml')\n",
    "wf_name = list(t1.keys())[0]\n",
    "workflow = t1[wf_name]\n",
    "with open(\"Milestone1A.txt\", 'w') as log_file1A:\n",
    "    run(log_file1A,workflow, wf_name+'.')"
   ]
  },
  {
   "cell_type": "markdown",
   "metadata": {},
   "source": [
    "### MILESTONE 1B"
   ]
  },
  {
   "cell_type": "code",
   "execution_count": 10,
   "metadata": {},
   "outputs": [],
   "source": [
    "# import functions\n",
    "import yaml\n",
    "import io\n",
    "import pprint\n",
    "import operator\n",
    "from datetime import datetime\n",
    "import time\n",
    "import threading"
   ]
  },
  {
   "cell_type": "code",
   "execution_count": 11,
   "metadata": {},
   "outputs": [],
   "source": [
    "logslist = []"
   ]
  },
  {
   "cell_type": "code",
   "execution_count": 12,
   "metadata": {},
   "outputs": [],
   "source": [
    "#open yaml file\n",
    "def load_task(file):\n",
    "    with open(file, 'r') as stream:\n",
    "        try:\n",
    "            tasks = yaml.safe_load(stream)\n",
    "        except yaml.YAMLError as exc:\n",
    "            print(exc)\n",
    "    return tasks"
   ]
  },
  {
   "cell_type": "code",
   "execution_count": 13,
   "metadata": {},
   "outputs": [],
   "source": [
    "def TimeFunction(t):\n",
    "    time.sleep(int(t))"
   ]
  },
  {
   "cell_type": "code",
   "execution_count": 14,
   "metadata": {},
   "outputs": [],
   "source": [
    "def run_task(activity, s):\n",
    "    logslist.append(str(datetime.now()) + \";\" + s[:-1]+' Entry\\n')\n",
    "    act_input = activity.get('FunctionInput')\n",
    "    act_time = activity.get('ExecutionTime')\n",
    "    logslist.append(str(datetime.now()) + \";\" + s[:-1]+ ' Executing TimeFunction(' + act_input + ', ' + act_time + ')\\n')\n",
    "    TimeFunction(act_time)\n",
    "    logslist.append(str(datetime.now()) + \";\" + s[:-1]+' Exit\\n')"
   ]
  },
  {
   "cell_type": "code",
   "execution_count": 15,
   "metadata": {},
   "outputs": [],
   "source": [
    "def run(config, s):\n",
    "        logslist.append(str(datetime.now()) + \";\" + s[:-1]+' Entry\\n')\n",
    "        type = config['Type']\n",
    "        execution = config['Execution']\n",
    "        activities = config.get('Activities')\n",
    "        activities_key = list(activities.keys())\n",
    "        activities_value = list(activities.values())\n",
    "        for i in activities_value:\n",
    "            type = i.get('Type')\n",
    "            if type == 'Task':\n",
    "                run_task(i.get('Inputs'), s+activities_key[activities_value.index(i)]+'.')\n",
    "            elif type == 'Flow':\n",
    "                run(i, s+activities_key[activities_value.index(i)]+'.')\n",
    "        logslist.append(str(datetime.now()) + \";\" + s[:-1]+' Exit\\n')"
   ]
  },
  {
   "cell_type": "code",
   "execution_count": 16,
   "metadata": {},
   "outputs": [],
   "source": [
    "def run_async(config, s):\n",
    "    logslist.append(str(datetime.now()) + \";\" + s[:-1]+' Entry\\n')\n",
    "    type = config['Type']\n",
    "    execution = config['Execution']\n",
    "    activities = config.get('Activities')\n",
    "    activities_key = list(activities.keys())\n",
    "    activities_value = list(activities.values())\n",
    "    for i in activities_value:\n",
    "        type = i.get('Type')\n",
    "        execution = i.get('Execution')\n",
    "        if type == 'Task':\n",
    "            processes.append(threading.Thread(target=run_task, args=(i.get('Inputs'), s+activities_key[activities_value.index(i)]+'.')))\n",
    "        elif type == 'Flow':\n",
    "            if execution == 'Concurrent':\n",
    "                run_async(i, s+activities_key[activities_value.index(i)]+'.')\n",
    "            else:\n",
    "                run(i, s+activities_key[activities_value.index(i)]+'.')\n",
    "    logslist.append(str(datetime.now()) + \";\" + s[:-1]+' Exit\\n')"
   ]
  },
  {
   "cell_type": "code",
   "execution_count": 17,
   "metadata": {},
   "outputs": [],
   "source": [
    "processes=[]\n",
    "t1 = load_task('DataSet\\Milestone1\\Milestone1B.yaml')\n",
    "wf_name = list(t1.keys())[0]\n",
    "workflow = t1[wf_name]\n",
    "# with open(\"Milestone1B.txt\", 'w') as log_file1B:\n",
    "run_async(workflow, wf_name+'.')\n",
    "for process in processes:\n",
    "    process.start()\n",
    "for process in processes:\n",
    "    process.join()"
   ]
  },
  {
   "cell_type": "code",
   "execution_count": 18,
   "metadata": {},
   "outputs": [],
   "source": [
    "with open(\"Milestone1B.txt\", 'w') as log_file1B:\n",
    "    for log in logslist:\n",
    "        log_file1B.write(log)"
   ]
  },
  {
   "cell_type": "code",
   "execution_count": null,
   "metadata": {},
   "outputs": [],
   "source": []
  }
 ],
 "metadata": {
  "kernelspec": {
   "display_name": "Python 3",
   "language": "python",
   "name": "python3"
  },
  "language_info": {
   "codemirror_mode": {
    "name": "ipython",
    "version": 3
   },
   "file_extension": ".py",
   "mimetype": "text/x-python",
   "name": "python",
   "nbconvert_exporter": "python",
   "pygments_lexer": "ipython3",
   "version": "3.7.4"
  }
 },
 "nbformat": 4,
 "nbformat_minor": 2
}
