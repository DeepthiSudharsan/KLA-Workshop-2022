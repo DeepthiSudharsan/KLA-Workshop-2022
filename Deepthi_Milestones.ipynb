{
 "cells": [
  {
   "cell_type": "markdown",
   "metadata": {},
   "source": [
    "## MILESTONE 1"
   ]
  },
  {
   "cell_type": "code",
   "execution_count": 55,
   "metadata": {},
   "outputs": [],
   "source": [
    "# import functions\n",
    "import yaml\n",
    "import io\n",
    "import pprint\n",
    "import operator\n",
    "from datetime import datetime\n",
    "import time"
   ]
  },
  {
   "cell_type": "markdown",
   "metadata": {},
   "source": [
    "#### MILESTONE 1A"
   ]
  },
  {
   "cell_type": "code",
   "execution_count": 57,
   "metadata": {},
   "outputs": [
    {
     "name": "stdout",
     "output_type": "stream",
     "text": [
      "{'M1A_Workflow': {'Activities': {'FlowA': {'Activities': {'TaskC': {'Function': 'TimeFunction',\n",
      "                                                                    'Inputs': {'ExecutionTime': '3',\n",
      "                                                                               'FunctionInput': 'TaskC_Input'},\n",
      "                                                                    'Type': 'Task'},\n",
      "                                                          'TaskD': {'Function': 'TimeFunction',\n",
      "                                                                    'Inputs': {'ExecutionTime': '4',\n",
      "                                                                               'FunctionInput': 'TaskD_Input'},\n",
      "                                                                    'Type': 'Task'}},\n",
      "                                           'Execution': 'Sequential',\n",
      "                                           'Type': 'Flow'},\n",
      "                                 'TaskA': {'Function': 'TimeFunction',\n",
      "                                           'Inputs': {'ExecutionTime': '1',\n",
      "                                                      'FunctionInput': 'TaskA_Input'},\n",
      "                                           'Type': 'Task'},\n",
      "                                 'TaskB': {'Function': 'TimeFunction',\n",
      "                                           'Inputs': {'ExecutionTime': '2',\n",
      "                                                      'FunctionInput': 'TaskB_Input'},\n",
      "                                           'Type': 'Task'}},\n",
      "                  'Execution': 'Sequential',\n",
      "                  'Type': 'Flow'}}\n"
     ]
    }
   ],
   "source": [
    "# Read YAML file\n",
    "with open(\"C:\\\\Users\\\\deept\\\\Desktop\\\\DataSet\\\\Milestone1\\\\Milestone1A.yaml\", 'r') as stream:\n",
    "    data_loaded = yaml.safe_load(stream)\n",
    "pprint.pprint(data_loaded)"
   ]
  },
  {
   "cell_type": "code",
   "execution_count": 50,
   "metadata": {},
   "outputs": [],
   "source": [
    "def TimeFunction(inp):\n",
    "    time.sleep(int(inp.get(\"ExecutionTime\")))\n",
    "# def DataLoad():\n",
    "# def Binning():\n",
    "# def MergeResults():\n",
    "# def ExportResults():"
   ]
  },
  {
   "cell_type": "code",
   "execution_count": 54,
   "metadata": {},
   "outputs": [],
   "source": [
    "with open(\"Milestone1A.txt\", 'w') as log_file1A:\n",
    "    my_workflow = \";\" + list(data_loaded)[0]\n",
    "\n",
    "    activity = data_loaded.get('M1A_Workflow').get('Activities')\n",
    "    log_file1A.write(str(datetime.now()) + my_workflow + \" Entry\\n\")\n",
    "\n",
    "    for task in list(activity.keys()):\n",
    "        tstr = my_workflow + \".\" + task\n",
    "        if(operator.contains(task,\"Task\")):\n",
    "            if(activity.get(task).get('Function') == \"TimeFunction\"):\n",
    "                inp = activity.get(task).get('Inputs')\n",
    "                log_file1A.write(str(datetime.now()) + tstr + \" Entry\\n\")\n",
    "                TimeFunction(inp)\n",
    "                if(\"FunctionInput\" not in list(inp.keys())):\n",
    "                    log_file1A.write(str(datetime.now()) + tstr + \" Executing TimeFunction(\" + inp.get(\"ExecutionTime\") + \")\\n\")\n",
    "                else:\n",
    "                    log_file1A.write(str(datetime.now()) + tstr + \" Executing TimeFunction(\" + inp.get(\"FunctionInput\") + \", \" + inp.get(\"ExecutionTime\") + \")\\n\")\n",
    "                log_file1A.write(str(datetime.now()) + tstr + \" Exit\\n\")\n",
    "        else:\n",
    "            subactivity = activity.get(task).get('Activities')\n",
    "            log_file1A.write(str(datetime.now()) + tstr + \" Entry\\n\")\n",
    "            for subtask in list(subactivity.keys()):\n",
    "                ststr = tstr + \".\" + subtask\n",
    "                if(operator.contains(subtask,\"Task\")):\n",
    "                    if(subactivity.get(subtask).get('Function') == \"TimeFunction\"):\n",
    "                        inp = subactivity.get(subtask).get('Inputs')\n",
    "                        log_file1A.write(str(datetime.now()) + ststr + \" Entry\\n\")\n",
    "                        TimeFunction(inp)\n",
    "                        if(\"FunctionInput\" not in list(inp.keys())):\n",
    "                            log_file1A.write(str(datetime.now()) + ststr + \" Executing TimeFunction(\" + inp.get(\"ExecutionTime\") + \")\\n\")\n",
    "                        else:\n",
    "                            log_file1A.write(str(datetime.now()) + ststr + \" Executing TimeFunction(\" + inp.get(\"FunctionInput\") + \", \" + inp.get(\"ExecutionTime\") + \")\\n\")\n",
    "                        log_file1A.write(str(datetime.now()) + ststr + \" Exit\\n\")\n",
    "            log_file1A.write(str(datetime.now()) + tstr + \" Exit\\n\")\n",
    "    log_file1A.write(str(datetime.now()) + my_workflow + \" Exit\")"
   ]
  },
  {
   "cell_type": "markdown",
   "metadata": {},
   "source": [
    "#### MILESTONE 1B"
   ]
  },
  {
   "cell_type": "code",
   "execution_count": 56,
   "metadata": {},
   "outputs": [
    {
     "name": "stdout",
     "output_type": "stream",
     "text": [
      "{'M1B_Workflow': {'Activities': {'FlowA': {'Activities': {'FlowB': {'Activities': {'TaskE': {'Function': 'TimeFunction',\n",
      "                                                                                             'Inputs': {'ExecutionTime': '5',\n",
      "                                                                                                        'FunctionInput': 'TaskE_Input'},\n",
      "                                                                                             'Type': 'Task'},\n",
      "                                                                                   'TaskF': {'Function': 'TimeFunction',\n",
      "                                                                                             'Inputs': {'ExecutionTime': '1',\n",
      "                                                                                                        'FunctionInput': 'TaskF_Input'},\n",
      "                                                                                             'Type': 'Task'}},\n",
      "                                                                    'Execution': 'Sequential',\n",
      "                                                                    'Type': 'Flow'},\n",
      "                                                          'FlowC': {'Activities': {'TaskG': {'Function': 'TimeFunction',\n",
      "                                                                                             'Inputs': {'ExecutionTime': '2',\n",
      "                                                                                                        'FunctionInput': 'TaskG_Input'},\n",
      "                                                                                             'Type': 'Task'},\n",
      "                                                                                   'TaskH': {'Function': 'TimeFunction',\n",
      "                                                                                             'Inputs': {'ExecutionTime': '2',\n",
      "                                                                                                        'FunctionInput': 'TaskH_Input'},\n",
      "                                                                                             'Type': 'Task'}},\n",
      "                                                                    'Execution': 'Sequential',\n",
      "                                                                    'Type': 'Flow'},\n",
      "                                                          'TaskB': {'Function': 'TimeFunction',\n",
      "                                                                    'Inputs': {'ExecutionTime': '14',\n",
      "                                                                               'FunctionInput': 'TaskB_Input'},\n",
      "                                                                    'Type': 'Task'},\n",
      "                                                          'TaskC': {'Function': 'TimeFunction',\n",
      "                                                                    'Inputs': {'ExecutionTime': '5',\n",
      "                                                                               'FunctionInput': 'TaskC_Input'},\n",
      "                                                                    'Type': 'Task'},\n",
      "                                                          'TaskD': {'Function': 'TimeFunction',\n",
      "                                                                    'Inputs': {'ExecutionTime': '5',\n",
      "                                                                               'FunctionInput': 'TaskD_Input'},\n",
      "                                                                    'Type': 'Task'},\n",
      "                                                          'TaskI': {'Function': 'TimeFunction',\n",
      "                                                                    'Inputs': {'ExecutionTime': '5',\n",
      "                                                                               'FunctionInput': 'TaskI_Input'},\n",
      "                                                                    'Type': 'Task'}},\n",
      "                                           'Execution': 'Concurrent',\n",
      "                                           'Type': 'Flow'},\n",
      "                                 'TaskA': {'Function': 'TimeFunction',\n",
      "                                           'Inputs': {'ExecutionTime': '1',\n",
      "                                                      'FunctionInput': 'TaskA_Input'},\n",
      "                                           'Type': 'Task'},\n",
      "                                 'TaskZ': {'Function': 'TimeFunction',\n",
      "                                           'Inputs': {'ExecutionTime': '5',\n",
      "                                                      'FunctionInput': 'TaskZ_Input'},\n",
      "                                           'Type': 'Task'}},\n",
      "                  'Execution': 'Sequential',\n",
      "                  'Type': 'Flow'}}\n"
     ]
    }
   ],
   "source": [
    "with open(\"C:\\\\Users\\\\deept\\\\Desktop\\\\DataSet\\\\Milestone1\\\\Milestone1B.yaml\", 'r') as stream:\n",
    "    data_loaded = yaml.safe_load(stream)\n",
    "pprint.pprint(data_loaded)"
   ]
  },
  {
   "cell_type": "markdown",
   "metadata": {},
   "source": [
    "## MILESTONE 2"
   ]
  },
  {
   "cell_type": "markdown",
   "metadata": {},
   "source": [
    "## MILESTONE 3"
   ]
  },
  {
   "cell_type": "markdown",
   "metadata": {},
   "source": [
    "#### MILESTONE 3A"
   ]
  },
  {
   "cell_type": "code",
   "execution_count": 58,
   "metadata": {},
   "outputs": [
    {
     "name": "stdout",
     "output_type": "stream",
     "text": [
      "{'M3A_Workflow': {'Activities': {'BinningProcess': {'Activities': {'BinningFor500': {'Condition': '$(M3A_Workflow.LoadData.NoOfDefects) '\n",
      "                                                                                                  '> '\n",
      "                                                                                                  '0',\n",
      "                                                                                     'Function': 'Binning',\n",
      "                                                                                     'Inputs': {'DataSet': '$(M3A_Workflow.LoadData.DataTable)',\n",
      "                                                                                                'RuleFilename': 'Milestone3A_BinningRule_500.csv'},\n",
      "                                                                                     'Outputs': ['BinningResultsTable',\n",
      "                                                                                                 'NoOfDefects'],\n",
      "                                                                                     'Type': 'Task'},\n",
      "                                                                   'BinningFor501': {'Condition': '$(M3A_Workflow.LoadData.NoOfDefects) '\n",
      "                                                                                                  '> '\n",
      "                                                                                                  '0',\n",
      "                                                                                     'Function': 'Binning',\n",
      "                                                                                     'Inputs': {'DataSet': '$(M3A_Workflow.LoadData.DataTable)',\n",
      "                                                                                                'RuleFilename': 'Milestone3A_BinningRule_501.csv'},\n",
      "                                                                                     'Outputs': ['BinningResultsTable',\n",
      "                                                                                                 'NoOfDefects'],\n",
      "                                                                                     'Type': 'Task'},\n",
      "                                                                   'BinningFor502': {'Condition': '$(M3A_Workflow.LoadData.NoOfDefects) '\n",
      "                                                                                                  '> '\n",
      "                                                                                                  '0',\n",
      "                                                                                     'Function': 'Binning',\n",
      "                                                                                     'Inputs': {'DataSet': '$(M3A_Workflow.LoadData.DataTable)',\n",
      "                                                                                                'RuleFilename': 'Milestone3A_BinningRule_502.csv'},\n",
      "                                                                                     'Outputs': ['BinningResultsTable',\n",
      "                                                                                                 'NoOfDefects'],\n",
      "                                                                                     'Type': 'Task'},\n",
      "                                                                   'BinningFor503': {'Condition': '$(M3A_Workflow.LoadData.NoOfDefects) '\n",
      "                                                                                                  '> '\n",
      "                                                                                                  '0',\n",
      "                                                                                     'Function': 'Binning',\n",
      "                                                                                     'Inputs': {'DataSet': '$(M3A_Workflow.LoadData.DataTable)',\n",
      "                                                                                                'RuleFilename': 'Milestone3A_BinningRule_503.csv'},\n",
      "                                                                                     'Outputs': ['BinningResultsTable',\n",
      "                                                                                                 'NoOfDefects'],\n",
      "                                                                                     'Type': 'Task'},\n",
      "                                                                   'BinningFor504': {'Condition': '$(M3A_Workflow.LoadData.NoOfDefects) '\n",
      "                                                                                                  '> '\n",
      "                                                                                                  '0',\n",
      "                                                                                     'Function': 'Binning',\n",
      "                                                                                     'Inputs': {'DataSet': '$(M3A_Workflow.LoadData.DataTable)',\n",
      "                                                                                                'RuleFilename': 'Milestone3A_BinningRule_504.csv'},\n",
      "                                                                                     'Outputs': ['BinningResultsTable',\n",
      "                                                                                                 'NoOfDefects'],\n",
      "                                                                                     'Type': 'Task'}},\n",
      "                                                    'Execution': 'Concurrent',\n",
      "                                                    'Type': 'Flow'},\n",
      "                                 'ExportResult': {'Function': 'ExportResults',\n",
      "                                                  'Inputs': {'DefectTable': '$(M3A_Workflow.MergeBinningResults.MergedResults)',\n",
      "                                                             'FileName': 'Milestone3A_DataOutput1.csv'},\n",
      "                                                  'Outputs': [],\n",
      "                                                  'Type': 'Task'},\n",
      "                                 'LoadData': {'Function': 'DataLoad',\n",
      "                                              'Inputs': {'Filename': 'Milestone3A_DataInput1.csv'},\n",
      "                                              'Outputs': ['DataTable',\n",
      "                                                          'NoOfDefects'],\n",
      "                                              'Type': 'Task'},\n",
      "                                 'MergeBinningResults': {'Function': 'MergeResults',\n",
      "                                                         'Inputs': {'DataSet1': '$(M3A_Workflow.BinningProcess.BinningFor500.BinningResultsTable)',\n",
      "                                                                    'DataSet2': '$(M3A_Workflow.BinningProcess.BinningFor501.BinningResultsTable)',\n",
      "                                                                    'DataSet3': '$(M3A_Workflow.BinningProcess.BinningFor502.BinningResultsTable)',\n",
      "                                                                    'DataSet4': '$(M3A_Workflow.BinningProcess.BinningFor503.BinningResultsTable)',\n",
      "                                                                    'DataSet5': '$(M3A_Workflow.BinningProcess.BinningFor504.BinningResultsTable)',\n",
      "                                                                    'PrecedenceFile': 'Milestone3A_PrecedenceFile1.txt'},\n",
      "                                                         'Outputs': ['MergedResults',\n",
      "                                                                     'NoOfDefects'],\n",
      "                                                         'Type': 'Task'}},\n",
      "                  'Execution': 'Sequential',\n",
      "                  'Type': 'Flow'}}\n"
     ]
    }
   ],
   "source": [
    "with open(\"C:\\\\Users\\\\deept\\\\Desktop\\\\DataSet\\\\Milestone3\\\\Milestone3A.yaml\", 'r') as stream:\n",
    "    data_loaded = yaml.safe_load(stream)\n",
    "pprint.pprint(data_loaded)"
   ]
  },
  {
   "cell_type": "code",
   "execution_count": null,
   "metadata": {},
   "outputs": [],
   "source": []
  }
 ],
 "metadata": {
  "kernelspec": {
   "display_name": "Python 3",
   "language": "python",
   "name": "python3"
  },
  "language_info": {
   "codemirror_mode": {
    "name": "ipython",
    "version": 3
   },
   "file_extension": ".py",
   "mimetype": "text/x-python",
   "name": "python",
   "nbconvert_exporter": "python",
   "pygments_lexer": "ipython3",
   "version": "3.7.4"
  }
 },
 "nbformat": 4,
 "nbformat_minor": 2
}
